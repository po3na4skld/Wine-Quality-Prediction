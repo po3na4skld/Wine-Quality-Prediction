{
 "cells": [
  {
   "cell_type": "code",
   "execution_count": 1,
   "metadata": {},
   "outputs": [
    {
     "name": "stderr",
     "output_type": "stream",
     "text": [
      "c:\\program files\\python37\\lib\\site-packages\\tensorflow\\python\\framework\\dtypes.py:516: FutureWarning: Passing (type, 1) or '1type' as a synonym of type is deprecated; in a future version of numpy, it will be understood as (type, (1,)) / '(1,)type'.\n",
      "  _np_qint8 = np.dtype([(\"qint8\", np.int8, 1)])\n",
      "c:\\program files\\python37\\lib\\site-packages\\tensorflow\\python\\framework\\dtypes.py:517: FutureWarning: Passing (type, 1) or '1type' as a synonym of type is deprecated; in a future version of numpy, it will be understood as (type, (1,)) / '(1,)type'.\n",
      "  _np_quint8 = np.dtype([(\"quint8\", np.uint8, 1)])\n",
      "c:\\program files\\python37\\lib\\site-packages\\tensorflow\\python\\framework\\dtypes.py:518: FutureWarning: Passing (type, 1) or '1type' as a synonym of type is deprecated; in a future version of numpy, it will be understood as (type, (1,)) / '(1,)type'.\n",
      "  _np_qint16 = np.dtype([(\"qint16\", np.int16, 1)])\n",
      "c:\\program files\\python37\\lib\\site-packages\\tensorflow\\python\\framework\\dtypes.py:519: FutureWarning: Passing (type, 1) or '1type' as a synonym of type is deprecated; in a future version of numpy, it will be understood as (type, (1,)) / '(1,)type'.\n",
      "  _np_quint16 = np.dtype([(\"quint16\", np.uint16, 1)])\n",
      "c:\\program files\\python37\\lib\\site-packages\\tensorflow\\python\\framework\\dtypes.py:520: FutureWarning: Passing (type, 1) or '1type' as a synonym of type is deprecated; in a future version of numpy, it will be understood as (type, (1,)) / '(1,)type'.\n",
      "  _np_qint32 = np.dtype([(\"qint32\", np.int32, 1)])\n",
      "c:\\program files\\python37\\lib\\site-packages\\tensorflow\\python\\framework\\dtypes.py:525: FutureWarning: Passing (type, 1) or '1type' as a synonym of type is deprecated; in a future version of numpy, it will be understood as (type, (1,)) / '(1,)type'.\n",
      "  np_resource = np.dtype([(\"resource\", np.ubyte, 1)])\n",
      "c:\\program files\\python37\\lib\\site-packages\\tensorboard\\compat\\tensorflow_stub\\dtypes.py:541: FutureWarning: Passing (type, 1) or '1type' as a synonym of type is deprecated; in a future version of numpy, it will be understood as (type, (1,)) / '(1,)type'.\n",
      "  _np_qint8 = np.dtype([(\"qint8\", np.int8, 1)])\n",
      "c:\\program files\\python37\\lib\\site-packages\\tensorboard\\compat\\tensorflow_stub\\dtypes.py:542: FutureWarning: Passing (type, 1) or '1type' as a synonym of type is deprecated; in a future version of numpy, it will be understood as (type, (1,)) / '(1,)type'.\n",
      "  _np_quint8 = np.dtype([(\"quint8\", np.uint8, 1)])\n",
      "c:\\program files\\python37\\lib\\site-packages\\tensorboard\\compat\\tensorflow_stub\\dtypes.py:543: FutureWarning: Passing (type, 1) or '1type' as a synonym of type is deprecated; in a future version of numpy, it will be understood as (type, (1,)) / '(1,)type'.\n",
      "  _np_qint16 = np.dtype([(\"qint16\", np.int16, 1)])\n",
      "c:\\program files\\python37\\lib\\site-packages\\tensorboard\\compat\\tensorflow_stub\\dtypes.py:544: FutureWarning: Passing (type, 1) or '1type' as a synonym of type is deprecated; in a future version of numpy, it will be understood as (type, (1,)) / '(1,)type'.\n",
      "  _np_quint16 = np.dtype([(\"quint16\", np.uint16, 1)])\n",
      "c:\\program files\\python37\\lib\\site-packages\\tensorboard\\compat\\tensorflow_stub\\dtypes.py:545: FutureWarning: Passing (type, 1) or '1type' as a synonym of type is deprecated; in a future version of numpy, it will be understood as (type, (1,)) / '(1,)type'.\n",
      "  _np_qint32 = np.dtype([(\"qint32\", np.int32, 1)])\n",
      "c:\\program files\\python37\\lib\\site-packages\\tensorboard\\compat\\tensorflow_stub\\dtypes.py:550: FutureWarning: Passing (type, 1) or '1type' as a synonym of type is deprecated; in a future version of numpy, it will be understood as (type, (1,)) / '(1,)type'.\n",
      "  np_resource = np.dtype([(\"resource\", np.ubyte, 1)])\n"
     ]
    }
   ],
   "source": [
    "import numpy as np\n",
    "import pandas as pd\n",
    "\n",
    "import matplotlib.pyplot as plt\n",
    "import seaborn as sns\n",
    "\n",
    "from sklearn.preprocessing import OneHotEncoder, StandardScaler\n",
    "from sklearn.metrics import accuracy_score, confusion_matrix, f1_score\n",
    "from sklearn.ensemble import GradientBoostingClassifier\n",
    "from sklearn.model_selection import train_test_split, cross_val_score\n",
    "from sklearn.svm import SVC\n",
    " \n",
    "from imblearn.over_sampling import SMOTE"
   ]
  },
  {
   "cell_type": "markdown",
   "metadata": {},
   "source": [
    "### Load and inspect dataset\n",
    "train file: WINE.csv, test file TEST.csv"
   ]
  },
  {
   "cell_type": "code",
   "execution_count": 2,
   "metadata": {},
   "outputs": [
    {
     "data": {
      "text/html": [
       "<div>\n",
       "<style scoped>\n",
       "    .dataframe tbody tr th:only-of-type {\n",
       "        vertical-align: middle;\n",
       "    }\n",
       "\n",
       "    .dataframe tbody tr th {\n",
       "        vertical-align: top;\n",
       "    }\n",
       "\n",
       "    .dataframe thead th {\n",
       "        text-align: right;\n",
       "    }\n",
       "</style>\n",
       "<table border=\"1\" class=\"dataframe\">\n",
       "  <thead>\n",
       "    <tr style=\"text-align: right;\">\n",
       "      <th></th>\n",
       "      <th>Target</th>\n",
       "      <th>Type</th>\n",
       "      <th>Alcohol</th>\n",
       "      <th>Density</th>\n",
       "      <th>Nitrogen</th>\n",
       "      <th>pH</th>\n",
       "      <th>Sugar</th>\n",
       "      <th>A</th>\n",
       "      <th>B</th>\n",
       "      <th>C</th>\n",
       "      <th>D</th>\n",
       "      <th>Di</th>\n",
       "      <th>E</th>\n",
       "      <th>H</th>\n",
       "      <th>S</th>\n",
       "      <th>U</th>\n",
       "      <th>V</th>\n",
       "    </tr>\n",
       "  </thead>\n",
       "  <tbody>\n",
       "    <tr>\n",
       "      <th>3846</th>\n",
       "      <td>4</td>\n",
       "      <td>white_wine</td>\n",
       "      <td>7.60</td>\n",
       "      <td>1.02</td>\n",
       "      <td>5.40</td>\n",
       "      <td>3.45</td>\n",
       "      <td>17.02</td>\n",
       "      <td>23.7</td>\n",
       "      <td>1.85</td>\n",
       "      <td>5.25</td>\n",
       "      <td>40.7</td>\n",
       "      <td>47.67</td>\n",
       "      <td>2.11</td>\n",
       "      <td>1.86</td>\n",
       "      <td>2.92</td>\n",
       "      <td>7.35</td>\n",
       "      <td>0.19</td>\n",
       "    </tr>\n",
       "    <tr>\n",
       "      <th>3608</th>\n",
       "      <td>4</td>\n",
       "      <td>white_wine</td>\n",
       "      <td>7.80</td>\n",
       "      <td>1.02</td>\n",
       "      <td>4.46</td>\n",
       "      <td>3.40</td>\n",
       "      <td>6.58</td>\n",
       "      <td>23.3</td>\n",
       "      <td>2.38</td>\n",
       "      <td>5.70</td>\n",
       "      <td>73.7</td>\n",
       "      <td>84.01</td>\n",
       "      <td>1.79</td>\n",
       "      <td>9.98</td>\n",
       "      <td>2.34</td>\n",
       "      <td>9.75</td>\n",
       "      <td>0.04</td>\n",
       "    </tr>\n",
       "    <tr>\n",
       "      <th>2531</th>\n",
       "      <td>5</td>\n",
       "      <td>white_wine</td>\n",
       "      <td>9.60</td>\n",
       "      <td>1.02</td>\n",
       "      <td>2.31</td>\n",
       "      <td>3.40</td>\n",
       "      <td>15.12</td>\n",
       "      <td>22.1</td>\n",
       "      <td>2.64</td>\n",
       "      <td>4.05</td>\n",
       "      <td>33.0</td>\n",
       "      <td>44.18</td>\n",
       "      <td>1.52</td>\n",
       "      <td>1.67</td>\n",
       "      <td>3.21</td>\n",
       "      <td>6.40</td>\n",
       "      <td>0.19</td>\n",
       "    </tr>\n",
       "    <tr>\n",
       "      <th>3838</th>\n",
       "      <td>4</td>\n",
       "      <td>red_wine</td>\n",
       "      <td>8.35</td>\n",
       "      <td>1.02</td>\n",
       "      <td>0.57</td>\n",
       "      <td>3.53</td>\n",
       "      <td>2.21</td>\n",
       "      <td>28.3</td>\n",
       "      <td>5.54</td>\n",
       "      <td>4.50</td>\n",
       "      <td>7.7</td>\n",
       "      <td>23.46</td>\n",
       "      <td>1.59</td>\n",
       "      <td>3.47</td>\n",
       "      <td>7.15</td>\n",
       "      <td>0.55</td>\n",
       "      <td>0.46</td>\n",
       "    </tr>\n",
       "    <tr>\n",
       "      <th>4681</th>\n",
       "      <td>4</td>\n",
       "      <td>red_wine</td>\n",
       "      <td>9.00</td>\n",
       "      <td>1.02</td>\n",
       "      <td>8.03</td>\n",
       "      <td>3.60</td>\n",
       "      <td>2.58</td>\n",
       "      <td>27.7</td>\n",
       "      <td>2.90</td>\n",
       "      <td>5.70</td>\n",
       "      <td>19.8</td>\n",
       "      <td>31.06</td>\n",
       "      <td>0.91</td>\n",
       "      <td>3.16</td>\n",
       "      <td>7.30</td>\n",
       "      <td>3.30</td>\n",
       "      <td>0.30</td>\n",
       "    </tr>\n",
       "  </tbody>\n",
       "</table>\n",
       "</div>"
      ],
      "text/plain": [
       "      Target        Type  Alcohol  Density  Nitrogen    pH  Sugar     A     B  \\\n",
       "3846       4  white_wine     7.60     1.02      5.40  3.45  17.02  23.7  1.85   \n",
       "3608       4  white_wine     7.80     1.02      4.46  3.40   6.58  23.3  2.38   \n",
       "2531       5  white_wine     9.60     1.02      2.31  3.40  15.12  22.1  2.64   \n",
       "3838       4    red_wine     8.35     1.02      0.57  3.53   2.21  28.3  5.54   \n",
       "4681       4    red_wine     9.00     1.02      8.03  3.60   2.58  27.7  2.90   \n",
       "\n",
       "         C     D     Di     E     H     S     U     V  \n",
       "3846  5.25  40.7  47.67  2.11  1.86  2.92  7.35  0.19  \n",
       "3608  5.70  73.7  84.01  1.79  9.98  2.34  9.75  0.04  \n",
       "2531  4.05  33.0  44.18  1.52  1.67  3.21  6.40  0.19  \n",
       "3838  4.50   7.7  23.46  1.59  3.47  7.15  0.55  0.46  \n",
       "4681  5.70  19.8  31.06  0.91  3.16  7.30  3.30  0.30  "
      ]
     },
     "execution_count": 2,
     "metadata": {},
     "output_type": "execute_result"
    }
   ],
   "source": [
    "train_data = pd.read_csv('WINE.csv')\n",
    "train_data.drop('Index', axis=1, inplace=True) #drop index column bacause it useless\n",
    "train_data.sample(5)"
   ]
  },
  {
   "cell_type": "code",
   "execution_count": 3,
   "metadata": {},
   "outputs": [
    {
     "data": {
      "text/html": [
       "<div>\n",
       "<style scoped>\n",
       "    .dataframe tbody tr th:only-of-type {\n",
       "        vertical-align: middle;\n",
       "    }\n",
       "\n",
       "    .dataframe tbody tr th {\n",
       "        vertical-align: top;\n",
       "    }\n",
       "\n",
       "    .dataframe thead th {\n",
       "        text-align: right;\n",
       "    }\n",
       "</style>\n",
       "<table border=\"1\" class=\"dataframe\">\n",
       "  <thead>\n",
       "    <tr style=\"text-align: right;\">\n",
       "      <th></th>\n",
       "      <th>Target</th>\n",
       "      <th>Alcohol</th>\n",
       "      <th>Density</th>\n",
       "      <th>Nitrogen</th>\n",
       "      <th>pH</th>\n",
       "      <th>Sugar</th>\n",
       "      <th>A</th>\n",
       "      <th>B</th>\n",
       "      <th>C</th>\n",
       "      <th>D</th>\n",
       "      <th>Di</th>\n",
       "      <th>E</th>\n",
       "      <th>H</th>\n",
       "      <th>S</th>\n",
       "      <th>U</th>\n",
       "      <th>V</th>\n",
       "    </tr>\n",
       "  </thead>\n",
       "  <tbody>\n",
       "    <tr>\n",
       "      <th>count</th>\n",
       "      <td>5600.000000</td>\n",
       "      <td>5600.000000</td>\n",
       "      <td>5600.000000</td>\n",
       "      <td>5600.000000</td>\n",
       "      <td>5600.000000</td>\n",
       "      <td>5600.00000</td>\n",
       "      <td>5567.000000</td>\n",
       "      <td>5600.000000</td>\n",
       "      <td>5600.000000</td>\n",
       "      <td>5600.000000</td>\n",
       "      <td>5600.000000</td>\n",
       "      <td>5600.000000</td>\n",
       "      <td>5584.000000</td>\n",
       "      <td>5600.000000</td>\n",
       "      <td>5600.000000</td>\n",
       "      <td>5600.000000</td>\n",
       "    </tr>\n",
       "    <tr>\n",
       "      <th>mean</th>\n",
       "      <td>3.812143</td>\n",
       "      <td>8.337791</td>\n",
       "      <td>1.039718</td>\n",
       "      <td>5.250179</td>\n",
       "      <td>3.427979</td>\n",
       "      <td>5.59803</td>\n",
       "      <td>24.539752</td>\n",
       "      <td>3.421562</td>\n",
       "      <td>4.776455</td>\n",
       "      <td>32.608714</td>\n",
       "      <td>43.709220</td>\n",
       "      <td>1.366580</td>\n",
       "      <td>2.909697</td>\n",
       "      <td>4.544402</td>\n",
       "      <td>5.516623</td>\n",
       "      <td>0.145773</td>\n",
       "    </tr>\n",
       "    <tr>\n",
       "      <th>std</th>\n",
       "      <td>0.864077</td>\n",
       "      <td>0.591844</td>\n",
       "      <td>0.457331</td>\n",
       "      <td>3.698764</td>\n",
       "      <td>0.165377</td>\n",
       "      <td>4.54153</td>\n",
       "      <td>2.573420</td>\n",
       "      <td>2.155710</td>\n",
       "      <td>2.170485</td>\n",
       "      <td>19.532201</td>\n",
       "      <td>20.156748</td>\n",
       "      <td>0.349658</td>\n",
       "      <td>2.121635</td>\n",
       "      <td>2.174807</td>\n",
       "      <td>2.820828</td>\n",
       "      <td>0.094536</td>\n",
       "    </tr>\n",
       "    <tr>\n",
       "      <th>min</th>\n",
       "      <td>1.000000</td>\n",
       "      <td>7.100000</td>\n",
       "      <td>1.010000</td>\n",
       "      <td>0.000000</td>\n",
       "      <td>2.910000</td>\n",
       "      <td>0.97000</td>\n",
       "      <td>17.700000</td>\n",
       "      <td>0.000000</td>\n",
       "      <td>0.000000</td>\n",
       "      <td>0.000000</td>\n",
       "      <td>0.000000</td>\n",
       "      <td>0.000000</td>\n",
       "      <td>0.000000</td>\n",
       "      <td>0.000000</td>\n",
       "      <td>0.000000</td>\n",
       "      <td>0.000000</td>\n",
       "    </tr>\n",
       "    <tr>\n",
       "      <th>25%</th>\n",
       "      <td>3.000000</td>\n",
       "      <td>7.850000</td>\n",
       "      <td>1.010000</td>\n",
       "      <td>2.740000</td>\n",
       "      <td>3.320000</td>\n",
       "      <td>2.11000</td>\n",
       "      <td>22.900000</td>\n",
       "      <td>1.980000</td>\n",
       "      <td>3.750000</td>\n",
       "      <td>17.600000</td>\n",
       "      <td>28.780000</td>\n",
       "      <td>1.130000</td>\n",
       "      <td>1.800000</td>\n",
       "      <td>3.070000</td>\n",
       "      <td>3.650000</td>\n",
       "      <td>0.070000</td>\n",
       "    </tr>\n",
       "    <tr>\n",
       "      <th>50%</th>\n",
       "      <td>4.000000</td>\n",
       "      <td>8.250000</td>\n",
       "      <td>1.020000</td>\n",
       "      <td>4.450000</td>\n",
       "      <td>3.420000</td>\n",
       "      <td>3.25000</td>\n",
       "      <td>24.100000</td>\n",
       "      <td>2.770000</td>\n",
       "      <td>4.650000</td>\n",
       "      <td>30.800000</td>\n",
       "      <td>41.695000</td>\n",
       "      <td>1.360000</td>\n",
       "      <td>2.360000</td>\n",
       "      <td>4.230000</td>\n",
       "      <td>5.650000</td>\n",
       "      <td>0.140000</td>\n",
       "    </tr>\n",
       "    <tr>\n",
       "      <th>75%</th>\n",
       "      <td>4.000000</td>\n",
       "      <td>8.750000</td>\n",
       "      <td>1.020000</td>\n",
       "      <td>6.860000</td>\n",
       "      <td>3.530000</td>\n",
       "      <td>8.19000</td>\n",
       "      <td>25.500000</td>\n",
       "      <td>4.220000</td>\n",
       "      <td>5.850000</td>\n",
       "      <td>45.100000</td>\n",
       "      <td>56.120000</td>\n",
       "      <td>1.600000</td>\n",
       "      <td>3.470000</td>\n",
       "      <td>5.550000</td>\n",
       "      <td>7.500000</td>\n",
       "      <td>0.210000</td>\n",
       "    </tr>\n",
       "    <tr>\n",
       "      <th>max</th>\n",
       "      <td>6.000000</td>\n",
       "      <td>10.550000</td>\n",
       "      <td>10.210000</td>\n",
       "      <td>30.720000</td>\n",
       "      <td>4.240000</td>\n",
       "      <td>62.91000</td>\n",
       "      <td>41.900000</td>\n",
       "      <td>16.500000</td>\n",
       "      <td>24.900000</td>\n",
       "      <td>316.800000</td>\n",
       "      <td>318.220000</td>\n",
       "      <td>2.600000</td>\n",
       "      <td>37.260000</td>\n",
       "      <td>25.990000</td>\n",
       "      <td>21.700000</td>\n",
       "      <td>0.520000</td>\n",
       "    </tr>\n",
       "  </tbody>\n",
       "</table>\n",
       "</div>"
      ],
      "text/plain": [
       "            Target      Alcohol      Density     Nitrogen           pH  \\\n",
       "count  5600.000000  5600.000000  5600.000000  5600.000000  5600.000000   \n",
       "mean      3.812143     8.337791     1.039718     5.250179     3.427979   \n",
       "std       0.864077     0.591844     0.457331     3.698764     0.165377   \n",
       "min       1.000000     7.100000     1.010000     0.000000     2.910000   \n",
       "25%       3.000000     7.850000     1.010000     2.740000     3.320000   \n",
       "50%       4.000000     8.250000     1.020000     4.450000     3.420000   \n",
       "75%       4.000000     8.750000     1.020000     6.860000     3.530000   \n",
       "max       6.000000    10.550000    10.210000    30.720000     4.240000   \n",
       "\n",
       "            Sugar            A            B            C            D  \\\n",
       "count  5600.00000  5567.000000  5600.000000  5600.000000  5600.000000   \n",
       "mean      5.59803    24.539752     3.421562     4.776455    32.608714   \n",
       "std       4.54153     2.573420     2.155710     2.170485    19.532201   \n",
       "min       0.97000    17.700000     0.000000     0.000000     0.000000   \n",
       "25%       2.11000    22.900000     1.980000     3.750000    17.600000   \n",
       "50%       3.25000    24.100000     2.770000     4.650000    30.800000   \n",
       "75%       8.19000    25.500000     4.220000     5.850000    45.100000   \n",
       "max      62.91000    41.900000    16.500000    24.900000   316.800000   \n",
       "\n",
       "                Di            E            H            S            U  \\\n",
       "count  5600.000000  5600.000000  5584.000000  5600.000000  5600.000000   \n",
       "mean     43.709220     1.366580     2.909697     4.544402     5.516623   \n",
       "std      20.156748     0.349658     2.121635     2.174807     2.820828   \n",
       "min       0.000000     0.000000     0.000000     0.000000     0.000000   \n",
       "25%      28.780000     1.130000     1.800000     3.070000     3.650000   \n",
       "50%      41.695000     1.360000     2.360000     4.230000     5.650000   \n",
       "75%      56.120000     1.600000     3.470000     5.550000     7.500000   \n",
       "max     318.220000     2.600000    37.260000    25.990000    21.700000   \n",
       "\n",
       "                 V  \n",
       "count  5600.000000  \n",
       "mean      0.145773  \n",
       "std       0.094536  \n",
       "min       0.000000  \n",
       "25%       0.070000  \n",
       "50%       0.140000  \n",
       "75%       0.210000  \n",
       "max       0.520000  "
      ]
     },
     "execution_count": 3,
     "metadata": {},
     "output_type": "execute_result"
    }
   ],
   "source": [
    "train_data.describe()"
   ]
  },
  {
   "cell_type": "code",
   "execution_count": 4,
   "metadata": {
    "scrolled": false
   },
   "outputs": [
    {
     "name": "stdout",
     "output_type": "stream",
     "text": [
      "<class 'pandas.core.frame.DataFrame'>\n",
      "RangeIndex: 5600 entries, 0 to 5599\n",
      "Data columns (total 17 columns):\n",
      "Target      5600 non-null int64\n",
      "Type        5600 non-null object\n",
      "Alcohol     5600 non-null float64\n",
      "Density     5600 non-null float64\n",
      "Nitrogen    5600 non-null float64\n",
      "pH          5600 non-null float64\n",
      "Sugar       5600 non-null float64\n",
      "A           5567 non-null float64\n",
      "B           5600 non-null float64\n",
      "C           5600 non-null float64\n",
      "D           5600 non-null float64\n",
      "Di          5600 non-null float64\n",
      "E           5600 non-null float64\n",
      "H           5584 non-null float64\n",
      "S           5600 non-null float64\n",
      "U           5600 non-null float64\n",
      "V           5600 non-null float64\n",
      "dtypes: float64(15), int64(1), object(1)\n",
      "memory usage: 743.9+ KB\n"
     ]
    }
   ],
   "source": [
    "train_data.info()\n",
    "# here I saw that there is some missing data in columns A and H, also column Type need to be encoded into numerical features"
   ]
  },
  {
   "cell_type": "code",
   "execution_count": 5,
   "metadata": {},
   "outputs": [
    {
     "name": "stdout",
     "output_type": "stream",
     "text": [
      "count    5567.000000\n",
      "mean       24.539752\n",
      "std         2.573420\n",
      "min        17.700000\n",
      "25%        22.900000\n",
      "50%        24.100000\n",
      "75%        25.500000\n",
      "max        41.900000\n",
      "Name: A, dtype: float64\n"
     ]
    },
    {
     "data": {
      "image/png": "[encoded data removed]",
      "text/plain": [
       "<Figure size 432x288 with 1 Axes>"
      ]
     },
     "metadata": {
      "needs_background": "light"
     },
     "output_type": "display_data"
    }
   ],
   "source": [
    "# handling non missing data in column A\n",
    "print(train_data['A'].describe())\n",
    "# distribusion is not normal so i will use log operation\n",
    "train_data['A'] = np.log(train_data['A'])\n",
    "train_data['A'].fillna(train_data['A'].mean(), inplace=True)\n",
    "\n",
    "sns.distplot(train_data['A'].dropna())\n",
    "plt.show()"
   ]
  },
  {
   "cell_type": "code",
   "execution_count": 6,
   "metadata": {},
   "outputs": [
    {
     "name": "stdout",
     "output_type": "stream",
     "text": [
      "count    5584.000000\n",
      "mean        2.909697\n",
      "std         2.121635\n",
      "min         0.000000\n",
      "25%         1.800000\n",
      "50%         2.360000\n",
      "75%         3.470000\n",
      "max        37.260000\n",
      "Name: H, dtype: float64\n"
     ]
    },
    {
     "data": {
      "image/png": "[encoded data removed]",
      "text/plain": [
       "<Figure size 432x288 with 1 Axes>"
      ]
     },
     "metadata": {
      "needs_background": "light"
     },
     "output_type": "display_data"
    }
   ],
   "source": [
    "# handling non missing data in column H\n",
    "print(train_data['H'].describe())\n",
    "# here i can't do log transformation so i just insert mean values due to small difference between mean and median\n",
    "train_data['H'].fillna(train_data['H'].mean(), inplace=True)\n",
    "train_data = train_data.drop(train_data['H'][train_data['H'] > 10].index, axis=0)\n",
    "\n",
    "sns.distplot(train_data['H'].dropna())\n",
    "plt.show()"
   ]
  },
  {
   "cell_type": "code",
   "execution_count": 7,
   "metadata": {},
   "outputs": [
    {
     "data": {
      "image/png": "[encoded data removed]",
      "text/plain": [
       "<Figure size 1080x1080 with 2 Axes>"
      ]
     },
     "metadata": {
      "needs_background": "light"
     },
     "output_type": "display_data"
    }
   ],
   "source": [
    "_ = plt.figure(figsize=(15, 15))\n",
    "sns.heatmap(train_data.corr())\n",
    "plt.show()"
   ]
  },
  {
   "cell_type": "code",
   "execution_count": 8,
   "metadata": {},
   "outputs": [
    {
     "name": "stdout",
     "output_type": "stream",
     "text": [
      "4922    0\n",
      "5068    0\n",
      "3971    1\n",
      "Name: Type, dtype: int64\n"
     ]
    }
   ],
   "source": [
    "# now i will handle categorical data in our case i have category type = white_wine, red_whine\n",
    "encoding_map = {'white_wine': 0, 'red_wine': 1}\n",
    "train_data['Type'] = train_data['Type'].apply(lambda x: encoding_map.get(x))\n",
    "print(train_data['Type'].sample(3))"
   ]
  },
  {
   "cell_type": "code",
   "execution_count": 9,
   "metadata": {},
   "outputs": [
    {
     "name": "stdout",
     "output_type": "stream",
     "text": [
      "4    2407\n",
      "3    1824\n",
      "5     930\n",
      "2     180\n",
      "6     158\n",
      "1      22\n",
      "Name: Target, dtype: int64\n"
     ]
    }
   ],
   "source": [
    "# checking for class balance\n",
    "print(train_data['Target'].value_counts())"
   ]
  },
  {
   "cell_type": "code",
   "execution_count": 10,
   "metadata": {},
   "outputs": [
    {
     "name": "stdout",
     "output_type": "stream",
     "text": [
      "(5521, 16) (5521,)\n"
     ]
    }
   ],
   "source": [
    "# divided data to x_data and y_data\n",
    "x_data = train_data.drop(['Target'], axis=1)\n",
    "y_data = train_data['Target']\n",
    "\n",
    "print(x_data.shape, y_data.shape)"
   ]
  },
  {
   "cell_type": "code",
   "execution_count": 11,
   "metadata": {},
   "outputs": [
    {
     "name": "stdout",
     "output_type": "stream",
     "text": [
      "Train set shape after upsampling: (14442, 16)\n",
      "Classes distribution after upsampling {1: 2407, 2: 2407, 3: 2407, 4: 2407, 5: 2407, 6: 2407}\n"
     ]
    }
   ],
   "source": [
    "# since classes in dataset are unbalanced I desided to use SMOTE technique for balancig dataset\n",
    "\n",
    "smote = SMOTE('minority')\n",
    "x_data_upsampled, y_data_upsampled = smote.fit_sample(x_data, y_data) # this is for '1' class\n",
    "x_data_upsampled, y_data_upsampled = smote.fit_sample(x_data_upsampled, y_data_upsampled) # this is for '6' class\n",
    "x_data_upsampled, y_data_upsampled = smote.fit_sample(x_data_upsampled, y_data_upsampled) # this is for '2' class\n",
    "x_data_upsampled, y_data_upsampled = smote.fit_sample(x_data_upsampled, y_data_upsampled) # this is for '5' class\n",
    "x_data_upsampled, y_data_upsampled = smote.fit_sample(x_data_upsampled, y_data_upsampled) # this is for '3' class\n",
    "\n",
    "print(f'Train set shape after upsampling: {x_data_upsampled.shape}')\n",
    "\n",
    "unique, counts = np.unique(y_data_upsampled, return_counts=True)\n",
    "print(f'Classes distribution after upsampling {dict(zip(unique, counts))}')\n"
   ]
  },
  {
   "cell_type": "markdown",
   "metadata": {},
   "source": [
    "### Train \n",
    "In this case I have multi-label classification problem (0..6 Bad Wine...Good Wine). I decided to use such metrics as accuracy and F1 score. Accuracy will show the overall perfomance of the models and F1 score is the combination of two metrics (precision and recall) that are often used in classification tasks.\n",
    "\n",
    "I will use such algorithms as **SVM** and **GradientBoosting**. For comparing I'll use the cross-validation technique."
   ]
  },
  {
   "cell_type": "code",
   "execution_count": 12,
   "metadata": {},
   "outputs": [],
   "source": [
    "# scaling data before training\n",
    "scaler = StandardScaler()\n",
    "x_data = scaler.fit_transform(x_data_upsampled)\n",
    "\n",
    "# split data into train-test sets\n",
    "# train_x, test_x, train_y, test_y = train_test_split(x_data_upsampled, y_data_upsampled, test_size=0.1)\n",
    "# print(train_x.shape, test_x.shape)"
   ]
  },
  {
   "cell_type": "code",
   "execution_count": 14,
   "metadata": {
    "scrolled": false
   },
   "outputs": [
    {
     "name": "stdout",
     "output_type": "stream",
     "text": [
      "Average score: 0.8249873202982696, Median score: 0.8250880915815735, STD: 0.022054340198004854\n"
     ]
    }
   ],
   "source": [
    "svc_params = {'C': 1., 'gamma': 'auto', 'kernel': 'rbf', 'max_iter': -1, 'tol': 0.001, 'class_weight': None}\n",
    "\n",
    "svm_clf = SVC(**svc_params)\n",
    "# svm_clf.fit(train_x, train_y)\n",
    "scores = cross_val_score(svm_clf, x_data_upsampled, y_data_upsampled, cv=5, scoring='f1_macro')\n",
    "\n",
    "print(f'Average score: {np.mean(scores)}, Median score: {np.median(scores)}, STD: {np.std(scores)}')\n",
    "\n",
    "# cm = confusion_matrix(test_y, y_pred)\n",
    "# sns.heatmap(cm, xticklabels=range(1, 7), yticklabels=range(1, 7))"
   ]
  },
  {
   "cell_type": "code",
   "execution_count": 15,
   "metadata": {},
   "outputs": [
    {
     "name": "stdout",
     "output_type": "stream",
     "text": [
      "Average score: 0.8549169284585474, Median score: 0.8701840472792796, STD: 0.020617953899947136\n"
     ]
    }
   ],
   "source": [
    "gb_params = {'loss': 'deviance', 'learning_rate': 0.1, 'n_estimators': 200,\n",
    "             'min_samples_split': 3, 'min_samples_leaf': 3, 'max_depth': 8, 'n_iter_no_change': 10}\n",
    "\n",
    "gb_clf = GradientBoostingClassifier(**gb_params)\n",
    "scores = cross_val_score(gb_clf, x_data_upsampled, y_data_upsampled, cv=5, scoring='f1_macro')\n",
    "\n",
    "print(f'Average score: {np.mean(scores)}, Median score: {np.median(scores)}, STD: {np.std(scores)}')\n",
    "\n",
    "# gb_clf.fit(train_x, train_y)\n",
    "# y_pred = gb_clf.predict(test_x)\n",
    "\n",
    "# print(f'Accuracy: {accuracy_score(test_y, y_pred)}')\n",
    "# print('F1 score average == macro: {}'.format(f1_score(test_y, y_pred, average='macro')))\n",
    "\n",
    "# cm = confusion_matrix(test_y, y_pred)\n",
    "\n",
    "# sns.heatmap(cm, xticklabels=range(1, 7), yticklabels=range(1, 7))"
   ]
  },
  {
   "cell_type": "markdown",
   "metadata": {},
   "source": [
    "### Model selection and conclusion\n",
    "\n",
    "So, the criterion for choosing a model is the value of the F1 score metric. The results show that the GradientBoosting model showed better performance, I can conclude that it will be used in production."
   ]
  },
  {
   "cell_type": "code",
   "execution_count": 16,
   "metadata": {},
   "outputs": [
    {
     "data": {
      "text/plain": [
       "GradientBoostingClassifier(criterion='friedman_mse', init=None,\n",
       "                           learning_rate=0.1, loss='deviance', max_depth=8,\n",
       "                           max_features=None, max_leaf_nodes=None,\n",
       "                           min_impurity_decrease=0.0, min_impurity_split=None,\n",
       "                           min_samples_leaf=3, min_samples_split=3,\n",
       "                           min_weight_fraction_leaf=0.0, n_estimators=200,\n",
       "                           n_iter_no_change=10, presort='auto',\n",
       "                           random_state=None, subsample=1.0, tol=0.0001,\n",
       "                           validation_fraction=0.1, verbose=0,\n",
       "                           warm_start=False)"
      ]
     },
     "execution_count": 16,
     "metadata": {},
     "output_type": "execute_result"
    }
   ],
   "source": [
    "gb_clf = GradientBoostingClassifier(**gb_params)\n",
    "gb_clf.fit(x_data_upsampled, y_data_upsampled)"
   ]
  },
  {
   "cell_type": "code",
   "execution_count": 17,
   "metadata": {},
   "outputs": [
    {
     "data": {
      "text/html": [
       "<div>\n",
       "<style scoped>\n",
       "    .dataframe tbody tr th:only-of-type {\n",
       "        vertical-align: middle;\n",
       "    }\n",
       "\n",
       "    .dataframe tbody tr th {\n",
       "        vertical-align: top;\n",
       "    }\n",
       "\n",
       "    .dataframe thead th {\n",
       "        text-align: right;\n",
       "    }\n",
       "</style>\n",
       "<table border=\"1\" class=\"dataframe\">\n",
       "  <thead>\n",
       "    <tr style=\"text-align: right;\">\n",
       "      <th></th>\n",
       "      <th>Type</th>\n",
       "      <th>Alcohol</th>\n",
       "      <th>Density</th>\n",
       "      <th>Nitrogen</th>\n",
       "      <th>pH</th>\n",
       "      <th>Sugar</th>\n",
       "      <th>A</th>\n",
       "      <th>B</th>\n",
       "      <th>C</th>\n",
       "      <th>D</th>\n",
       "      <th>Di</th>\n",
       "      <th>E</th>\n",
       "      <th>H</th>\n",
       "      <th>S</th>\n",
       "      <th>U</th>\n",
       "      <th>V</th>\n",
       "    </tr>\n",
       "  </thead>\n",
       "  <tbody>\n",
       "    <tr>\n",
       "      <th>756</th>\n",
       "      <td>white_wine</td>\n",
       "      <td>9.60</td>\n",
       "      <td>1.01</td>\n",
       "      <td>6.06</td>\n",
       "      <td>3.46</td>\n",
       "      <td>4.20</td>\n",
       "      <td>23.3</td>\n",
       "      <td>4.09</td>\n",
       "      <td>3.30</td>\n",
       "      <td>17.60</td>\n",
       "      <td>28.12</td>\n",
       "      <td>1.41</td>\n",
       "      <td>1.80</td>\n",
       "      <td>4.53</td>\n",
       "      <td>4.60</td>\n",
       "      <td>0.24</td>\n",
       "    </tr>\n",
       "    <tr>\n",
       "      <th>559</th>\n",
       "      <td>white_wine</td>\n",
       "      <td>8.00</td>\n",
       "      <td>1.01</td>\n",
       "      <td>2.69</td>\n",
       "      <td>3.63</td>\n",
       "      <td>3.82</td>\n",
       "      <td>20.7</td>\n",
       "      <td>1.58</td>\n",
       "      <td>4.65</td>\n",
       "      <td>23.10</td>\n",
       "      <td>29.55</td>\n",
       "      <td>1.01</td>\n",
       "      <td>1.67</td>\n",
       "      <td>4.09</td>\n",
       "      <td>4.25</td>\n",
       "      <td>0.23</td>\n",
       "    </tr>\n",
       "    <tr>\n",
       "      <th>749</th>\n",
       "      <td>red_wine</td>\n",
       "      <td>9.20</td>\n",
       "      <td>1.02</td>\n",
       "      <td>7.30</td>\n",
       "      <td>3.43</td>\n",
       "      <td>2.30</td>\n",
       "      <td>28.1</td>\n",
       "      <td>4.22</td>\n",
       "      <td>6.15</td>\n",
       "      <td>15.40</td>\n",
       "      <td>28.72</td>\n",
       "      <td>1.64</td>\n",
       "      <td>3.04</td>\n",
       "      <td>5.55</td>\n",
       "      <td>1.70</td>\n",
       "      <td>0.41</td>\n",
       "    </tr>\n",
       "    <tr>\n",
       "      <th>328</th>\n",
       "      <td>white_wine</td>\n",
       "      <td>7.95</td>\n",
       "      <td>1.02</td>\n",
       "      <td>3.45</td>\n",
       "      <td>3.36</td>\n",
       "      <td>6.38</td>\n",
       "      <td>21.7</td>\n",
       "      <td>2.90</td>\n",
       "      <td>1.35</td>\n",
       "      <td>38.50</td>\n",
       "      <td>47.09</td>\n",
       "      <td>1.40</td>\n",
       "      <td>2.05</td>\n",
       "      <td>3.80</td>\n",
       "      <td>6.60</td>\n",
       "      <td>0.09</td>\n",
       "    </tr>\n",
       "    <tr>\n",
       "      <th>399</th>\n",
       "      <td>white_wine</td>\n",
       "      <td>7.85</td>\n",
       "      <td>1.02</td>\n",
       "      <td>3.01</td>\n",
       "      <td>3.53</td>\n",
       "      <td>4.77</td>\n",
       "      <td>23.7</td>\n",
       "      <td>2.90</td>\n",
       "      <td>3.45</td>\n",
       "      <td>54.45</td>\n",
       "      <td>59.54</td>\n",
       "      <td>1.65</td>\n",
       "      <td>3.22</td>\n",
       "      <td>5.55</td>\n",
       "      <td>11.62</td>\n",
       "      <td>0.23</td>\n",
       "    </tr>\n",
       "  </tbody>\n",
       "</table>\n",
       "</div>"
      ],
      "text/plain": [
       "           Type  Alcohol  Density  Nitrogen    pH  Sugar     A     B     C  \\\n",
       "756  white_wine     9.60     1.01      6.06  3.46   4.20  23.3  4.09  3.30   \n",
       "559  white_wine     8.00     1.01      2.69  3.63   3.82  20.7  1.58  4.65   \n",
       "749    red_wine     9.20     1.02      7.30  3.43   2.30  28.1  4.22  6.15   \n",
       "328  white_wine     7.95     1.02      3.45  3.36   6.38  21.7  2.90  1.35   \n",
       "399  white_wine     7.85     1.02      3.01  3.53   4.77  23.7  2.90  3.45   \n",
       "\n",
       "         D     Di     E     H     S      U     V  \n",
       "756  17.60  28.12  1.41  1.80  4.53   4.60  0.24  \n",
       "559  23.10  29.55  1.01  1.67  4.09   4.25  0.23  \n",
       "749  15.40  28.72  1.64  3.04  5.55   1.70  0.41  \n",
       "328  38.50  47.09  1.40  2.05  3.80   6.60  0.09  \n",
       "399  54.45  59.54  1.65  3.22  5.55  11.62  0.23  "
      ]
     },
     "execution_count": 17,
     "metadata": {},
     "output_type": "execute_result"
    }
   ],
   "source": [
    "# do test.csv\n",
    "\n",
    "test_data = pd.read_csv('TEST.csv')\n",
    "index_data = test_data['Index'].values\n",
    "test_data.drop('Index', axis=1, inplace=True)\n",
    "test_data.sample(5)"
   ]
  },
  {
   "cell_type": "code",
   "execution_count": 18,
   "metadata": {},
   "outputs": [
    {
     "name": "stdout",
     "output_type": "stream",
     "text": [
      "<class 'pandas.core.frame.DataFrame'>\n",
      "RangeIndex: 790 entries, 0 to 789\n",
      "Data columns (total 16 columns):\n",
      "Type        790 non-null object\n",
      "Alcohol     790 non-null float64\n",
      "Density     790 non-null float64\n",
      "Nitrogen    790 non-null float64\n",
      "pH          790 non-null float64\n",
      "Sugar       790 non-null float64\n",
      "A           790 non-null float64\n",
      "B           790 non-null float64\n",
      "C           790 non-null float64\n",
      "D           790 non-null float64\n",
      "Di          790 non-null float64\n",
      "E           790 non-null float64\n",
      "H           790 non-null float64\n",
      "S           790 non-null float64\n",
      "U           790 non-null float64\n",
      "V           790 non-null float64\n",
      "dtypes: float64(15), object(1)\n",
      "memory usage: 98.9+ KB\n"
     ]
    }
   ],
   "source": [
    "test_data.info()"
   ]
  },
  {
   "cell_type": "code",
   "execution_count": 19,
   "metadata": {},
   "outputs": [
    {
     "name": "stdout",
     "output_type": "stream",
     "text": [
      "474    0\n",
      "412    0\n",
      "283    1\n",
      "Name: Type, dtype: int64\n"
     ]
    }
   ],
   "source": [
    "encoding_map = {'white_wine': 0, 'red_wine': 1}\n",
    "test_data['Type'] = test_data['Type'].apply(lambda x: encoding_map.get(x))\n",
    "print(test_data['Type'].sample(3))"
   ]
  },
  {
   "cell_type": "code",
   "execution_count": 20,
   "metadata": {},
   "outputs": [],
   "source": [
    "# predicting test data and saving submission.csv file\n",
    "\n",
    "test_x = scaler.transform(test_data)\n",
    "y_pred = gb_clf.predict(test_x)\n",
    "\n",
    "data = {'Index': index_data, 'Target': y_pred}\n",
    "submission_df = pd.DataFrame(data=data)\n",
    "submission_df.to_csv('submission.csv', index=False)"
   ]
  }
 ],
 "metadata": {
  "kernelspec": {
   "display_name": "Python 3",
   "language": "python",
   "name": "python3"
  },
  "language_info": {
   "codemirror_mode": {
    "name": "ipython",
    "version": 3
   },
   "file_extension": ".py",
   "mimetype": "text/x-python",
   "name": "python",
   "nbconvert_exporter": "python",
   "pygments_lexer": "ipython3",
   "version": "3.7.4"
  }
 },
 "nbformat": 4,
 "nbformat_minor": 2
}
